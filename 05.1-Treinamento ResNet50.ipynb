{
 "cells": [
  {
   "cell_type": "code",
   "execution_count": 1,
   "metadata": {
    "gather": {
     "logged": 1678749426461
    }
   },
   "outputs": [],
   "source": [
    "import torch\n",
    "import torchvision\n",
    "from torchvision import transforms\n",
    "\n",
    "import pytorch_lightning as pl\n",
    "\n",
    "from pytorch_lightning.loggers import TensorBoardLogger\n",
    "from pytorch_lightning.loggers import CSVLogger\n",
    "\n",
    "from pytorch_lightning.callbacks import ModelCheckpoint, LearningRateMonitor, ModelSummary\n",
    "from pytorch_lightning.callbacks.progress import TQDMProgressBar\n",
    "\n",
    "\n",
    "from torch.nn import functional as F\n",
    "from torch.utils.data import DataLoader\n",
    "\n",
    "#Metricas\n",
    "import torchmetrics\n",
    "from torchmetrics.classification import MulticlassAccuracy\n",
    "\n",
    "\n",
    "from tqdm.notebook import tqdm\n",
    "import numpy as np\n",
    "import matplotlib.pyplot as plt\n",
    "from pathlib import Path\n"
   ]
  },
  {
   "cell_type": "code",
   "execution_count": 7,
   "metadata": {
    "gather": {
     "logged": 1678749426967
    },
    "jupyter": {
     "outputs_hidden": false,
     "source_hidden": false
    },
    "nteract": {
     "transient": {
      "deleting": false
     }
    }
   },
   "outputs": [],
   "source": [
    "##########################\n",
    "### Configurações\n",
    "##########################\n",
    "\n",
    "MODEL_NAME = \"ResNet50\"\n",
    "\n",
    "# Hyperparameters\n",
    "LEARNING_RATE = 1e-3\n",
    "BATCH_SIZE = 8 if torch.cuda.is_available() else 64\n",
    "NUM_WORKERS = 0 # Zero for Windows\n",
    "NUM_EPOCHS = 3\n",
    "\n",
    "# Architecture\n",
    "NUM_CLASSES = 7\n",
    "\n",
    "# Other\n",
    "DEVICE = \"cuda:0\" # ou \"CPU\"\n",
    "\n",
    "width_pic = 224\n",
    "height_pic = 224\n"
   ]
  },
  {
   "cell_type": "code",
   "execution_count": 8,
   "metadata": {
    "gather": {
     "logged": 1678749427285
    },
    "jupyter": {
     "outputs_hidden": false,
     "source_hidden": false
    },
    "nteract": {
     "transient": {
      "deleting": false
     }
    }
   },
   "outputs": [
    {
     "name": "stdout",
     "output_type": "stream",
     "text": [
      "8\n",
      "cuda:0\n",
      "0.001\n"
     ]
    }
   ],
   "source": [
    "print(BATCH_SIZE)\n",
    "print(DEVICE)\n",
    "print(LEARNING_RATE)\n",
    "#print(f\"There are {len(train_dataset)} train images and {len(val_dataset)} val images\")"
   ]
  },
  {
   "cell_type": "code",
   "execution_count": 9,
   "metadata": {
    "gather": {
     "logged": 1678749427520
    },
    "jupyter": {
     "outputs_hidden": false,
     "source_hidden": false
    },
    "nteract": {
     "transient": {
      "deleting": false
     }
    }
   },
   "outputs": [],
   "source": [
    "PATH_DS_PROCESSED_TRAINING = Path(\"./IMG224_ALL/PROCESSED-TRAIN\")\n",
    "PATH_DS_PROCESSED_VALIDATION = Path(\"./IMG224_ALL/PROCESSED-VALID\")\n",
    "PATH_DS_PROCESSED_TEST = Path(\"./IMG224_ALL/PROCESSED-TEST\")\n",
    "\n",
    "pathname = \"./WEIGHTS/\" + MODEL_NAME + \"/\"\n",
    "PATH_DS_WEIGHTS = Path(pathname)"
   ]
  },
  {
   "cell_type": "code",
   "execution_count": 10,
   "metadata": {
    "gather": {
     "logged": 1678749427731
    },
    "jupyter": {
     "outputs_hidden": false,
     "source_hidden": false
    },
    "nteract": {
     "transient": {
      "deleting": false
     }
    }
   },
   "outputs": [],
   "source": [
    "def load_file(path):\n",
    "    return np.load(path).astype(np.float32)"
   ]
  },
  {
   "cell_type": "code",
   "execution_count": 11,
   "metadata": {},
   "outputs": [],
   "source": [
    "# Valores correspondente ao ds completo (todas as classificações)\n",
    "# a normalização das imagens depende desses valores e devem ser levadas em consideração o dataset que está sendo analisado\n",
    "mean = torch.tensor([118.9568,  76.7986,  43.6991]) \n",
    "stq = torch.tensor([71.9256, 50.9931, 35.3619])     \n",
    "\n",
    "train_transforms = transforms.Compose([\n",
    "                                    transforms.ToTensor(),\n",
    "                                    transforms.RandomRotation(degrees=(-45, 45)),\n",
    "                                    transforms.Normalize(mean,stq),\n",
    "])\n",
    "\n",
    "val_transforms = transforms.Compose([\n",
    "                                    transforms.ToTensor(),\n",
    "                                    transforms.Normalize(mean,stq),\n",
    "])\n"
   ]
  },
  {
   "cell_type": "code",
   "execution_count": 12,
   "metadata": {
    "gather": {
     "logged": 1678749428580
    },
    "jupyter": {
     "outputs_hidden": false,
     "source_hidden": false
    },
    "nteract": {
     "transient": {
      "deleting": false
     }
    }
   },
   "outputs": [],
   "source": [
    "# Create the checkpoint callback\n",
    "checkpoint_callback = ModelCheckpoint(\n",
    "    dirpath=PATH_DS_WEIGHTS,\n",
    "    monitor='val_epoch_acc',\n",
    "    save_top_k=3,\n",
    "    mode='max')"
   ]
  },
  {
   "cell_type": "code",
   "execution_count": 13,
   "metadata": {
    "gather": {
     "logged": 1678749428853
    },
    "jupyter": {
     "outputs_hidden": false,
     "source_hidden": false
    },
    "nteract": {
     "transient": {
      "deleting": false
     }
    }
   },
   "outputs": [],
   "source": [
    "#Datasets\n",
    "TRAIN_DATASET = torchvision.datasets.DatasetFolder(\n",
    "    PATH_DS_PROCESSED_TRAINING,\n",
    "    loader=load_file, extensions=\"npy\", transform=train_transforms)\n",
    "\n",
    "VAL_DATASET = torchvision.datasets.DatasetFolder(\n",
    "    PATH_DS_PROCESSED_VALIDATION,\n",
    "    loader=load_file, extensions=\"npy\", transform=val_transforms)\n",
    "\n",
    "TEST_DATASET = torchvision.datasets.DatasetFolder(\n",
    "    PATH_DS_PROCESSED_TEST,\n",
    "    loader=load_file, extensions=\"npy\", transform=val_transforms)"
   ]
  },
  {
   "cell_type": "code",
   "execution_count": 14,
   "metadata": {
    "gather": {
     "logged": 1678749429080
    },
    "jupyter": {
     "outputs_hidden": false,
     "source_hidden": false
    },
    "nteract": {
     "transient": {
      "deleting": false
     }
    }
   },
   "outputs": [],
   "source": [
    "TRAIN_LOADER = torch.utils.data.DataLoader(TRAIN_DATASET, batch_size=BATCH_SIZE, num_workers=NUM_WORKERS, shuffle=True)\n",
    "VAL_LOADER = torch.utils.data.DataLoader(VAL_DATASET, batch_size=BATCH_SIZE, num_workers=NUM_WORKERS, shuffle=False)\n",
    "TEST_LOADER = torch.utils.data.DataLoader(TEST_DATASET, batch_size=BATCH_SIZE, num_workers=NUM_WORKERS, shuffle=False)"
   ]
  },
  {
   "cell_type": "code",
   "execution_count": 15,
   "metadata": {
    "gather": {
     "logged": 1678749429275
    },
    "jupyter": {
     "outputs_hidden": false,
     "source_hidden": false
    },
    "nteract": {
     "transient": {
      "deleting": false
     }
    }
   },
   "outputs": [],
   "source": [
    "class LTResNet50Module(pl.LightningModule):\n",
    "    def __init__(self):\n",
    "        super().__init__()\n",
    "\n",
    "        self.learning_rate = LEARNING_RATE      \n",
    "        \n",
    "        self.model = torchvision.models.resnet50(pretrained=True)\n",
    "        \n",
    "        fc_in_features = self.model.fc.in_features\n",
    "        self.model.fc = torch.nn.Linear(in_features=fc_in_features, out_features=NUM_CLASSES, bias=True)\n",
    "        \n",
    "        self.loss_fn = torch.nn.CrossEntropyLoss()\n",
    "\n",
    "        self.metric_train_accuracy = torchmetrics.classification.MulticlassAccuracy(num_classes=NUM_CLASSES)\n",
    "        self.metric_val_accuracy = torchmetrics.classification.MulticlassAccuracy(num_classes=NUM_CLASSES)   \n",
    "        self.metric_test_accuracy = torchmetrics.classification.MulticlassAccuracy(num_classes=NUM_CLASSES)\n",
    "        \n",
    "        self.metric_train_f1score = torchmetrics.classification.MulticlassF1Score(num_classes=NUM_CLASSES)\n",
    "        self.metric_val_f1score = torchmetrics.classification.MulticlassF1Score(num_classes=NUM_CLASSES)    \n",
    "        self.metric_test_f1score = torchmetrics.classification.MulticlassF1Score(num_classes=NUM_CLASSES)\n",
    "\n",
    "    def forward(self, x):\n",
    "        x = self.model(x)\n",
    "        return x\n",
    "    \n",
    "    def configure_optimizers(self):\n",
    "        optimizer = torch.optim.Adam(self.parameters(), lr=self.learning_rate)\n",
    "        #optimizer = torch.optim.SGD(self.parameters(), **self.hparams.optimizer_hparams)\n",
    "        # We will reduce the learning rate by 0.1 after 100 and 150 epochs\n",
    "        scheduler = torch.optim.lr_scheduler.MultiStepLR(optimizer, milestones=[1,3,5,7,8,10,15,20], gamma=0.5)\n",
    "\n",
    "        return [optimizer], [scheduler]\n",
    "        \n",
    "    def training_step(self, batch, batch_idx):\n",
    "        x, labels = batch\n",
    "        preds = self.model(x)\n",
    "\n",
    "        loss = self.loss_fn(preds, labels)\n",
    "        \n",
    "        pred_labels = torch.argmax(preds, dim=1)\n",
    "        \n",
    "        self.metric_train_accuracy.update(pred_labels, labels)\n",
    "        self.metric_train_f1score.update(pred_labels, labels)\n",
    "        \n",
    "        self.log(\"train_st_loss\", loss)\n",
    "        \n",
    "        return loss\n",
    "    \n",
    "    def training_epoch_end(self, outs):\n",
    "        self.log(\"train_epoch_acc\", self.metric_train_accuracy.compute())\n",
    "        self.log(\"train_epoch_f1score\", self.metric_train_f1score.compute())\n",
    "        self.metric_train_accuracy.reset()\n",
    "        self.metric_train_f1score.reset()\n",
    "\n",
    "    def validation_step(self, batch, batch_idx):\n",
    "        x, labels = batch\n",
    "        preds = self.model(x)\n",
    "        loss = self.loss_fn(preds, labels)\n",
    "        pred_labels = torch.argmax(preds, dim=1)\n",
    "        \n",
    "        self.metric_val_accuracy.update(pred_labels, labels)\n",
    "        self.metric_val_f1score.update(pred_labels, labels)\n",
    "        \n",
    "        self.log(\"val_st_loss\", loss)\n",
    "        \n",
    "    def validation_epoch_end(self, outs):\n",
    "        self.log(\"val_epoch_acc\", self.metric_val_accuracy.compute(), prog_bar=True)\n",
    "        self.log(\"val_epoch_f1score\", self.metric_val_f1score.compute())\n",
    "        self.metric_val_accuracy.reset()\n",
    "        self.metric_val_f1score.reset()\n",
    "\n",
    "    def test_step(self, batch, batch_idx):\n",
    "        x, labels = batch\n",
    "        preds = self.model(x).argmax(dim=-1)\n",
    "        acc = (labels == preds).float().mean()\n",
    "        self.log(\"test_acc\", acc)\n",
    "\n",
    "        "
   ]
  },
  {
   "cell_type": "code",
   "execution_count": 16,
   "metadata": {
    "gather": {
     "logged": 1678749345546
    },
    "jupyter": {
     "outputs_hidden": false,
     "source_hidden": false
    },
    "nteract": {
     "transient": {
      "deleting": false
     }
    }
   },
   "outputs": [
    {
     "name": "stderr",
     "output_type": "stream",
     "text": [
      "C:\\Users\\AsusTon\\anaconda3\\envs\\tcc_evn\\lib\\site-packages\\torchvision\\models\\_utils.py:208: UserWarning: The parameter 'pretrained' is deprecated since 0.13 and may be removed in the future, please use 'weights' instead.\n",
      "  warnings.warn(\n",
      "C:\\Users\\AsusTon\\anaconda3\\envs\\tcc_evn\\lib\\site-packages\\torchvision\\models\\_utils.py:223: UserWarning: Arguments other than a weight enum or `None` for 'weights' are deprecated since 0.13 and may be removed in the future. The current behavior is equivalent to passing `weights=ResNet50_Weights.IMAGENET1K_V1`. You can also use `weights=ResNet50_Weights.DEFAULT` to get the most up-to-date weights.\n",
      "  warnings.warn(msg)\n",
      "GPU available: True (cuda), used: True\n",
      "TPU available: False, using: 0 TPU cores\n",
      "IPU available: False, using: 0 IPUs\n",
      "HPU available: False, using: 0 HPUs\n",
      "Missing logger folder: ./lightning_logs\\ResNet50\n",
      "LOCAL_RANK: 0 - CUDA_VISIBLE_DEVICES: [0]\n",
      "\n",
      "  | Name                  | Type               | Params\n",
      "-------------------------------------------------------------\n",
      "0 | model                 | ResNet             | 23.5 M\n",
      "1 | loss_fn               | CrossEntropyLoss   | 0     \n",
      "2 | metric_train_accuracy | MulticlassAccuracy | 0     \n",
      "3 | metric_val_accuracy   | MulticlassAccuracy | 0     \n",
      "4 | metric_test_accuracy  | MulticlassAccuracy | 0     \n",
      "5 | metric_train_f1score  | MulticlassF1Score  | 0     \n",
      "6 | metric_val_f1score    | MulticlassF1Score  | 0     \n",
      "7 | metric_test_f1score   | MulticlassF1Score  | 0     \n",
      "-------------------------------------------------------------\n",
      "23.5 M    Trainable params\n",
      "0         Non-trainable params\n",
      "23.5 M    Total params\n",
      "94.090    Total estimated model params size (MB)\n"
     ]
    },
    {
     "data": {
      "application/vnd.jupyter.widget-view+json": {
       "model_id": "",
       "version_major": 2,
       "version_minor": 0
      },
      "text/plain": [
       "Sanity Checking: 0it [00:00, ?it/s]"
      ]
     },
     "metadata": {},
     "output_type": "display_data"
    },
    {
     "name": "stderr",
     "output_type": "stream",
     "text": [
      "C:\\Users\\AsusTon\\anaconda3\\envs\\tcc_evn\\lib\\site-packages\\pytorch_lightning\\trainer\\connectors\\data_connector.py:224: PossibleUserWarning: The dataloader, val_dataloader 0, does not have many workers which may be a bottleneck. Consider increasing the value of the `num_workers` argument` (try 4 which is the number of cpus on this machine) in the `DataLoader` init to improve performance.\n",
      "  rank_zero_warn(\n",
      "C:\\Users\\AsusTon\\anaconda3\\envs\\tcc_evn\\lib\\site-packages\\pytorch_lightning\\trainer\\connectors\\data_connector.py:224: PossibleUserWarning: The dataloader, train_dataloader, does not have many workers which may be a bottleneck. Consider increasing the value of the `num_workers` argument` (try 4 which is the number of cpus on this machine) in the `DataLoader` init to improve performance.\n",
      "  rank_zero_warn(\n"
     ]
    },
    {
     "data": {
      "application/vnd.jupyter.widget-view+json": {
       "model_id": "610cb97f30894dd3950a5d27aafc047c",
       "version_major": 2,
       "version_minor": 0
      },
      "text/plain": [
       "Training: 0it [00:00, ?it/s]"
      ]
     },
     "metadata": {},
     "output_type": "display_data"
    },
    {
     "data": {
      "application/vnd.jupyter.widget-view+json": {
       "model_id": "",
       "version_major": 2,
       "version_minor": 0
      },
      "text/plain": [
       "Validation: 0it [00:00, ?it/s]"
      ]
     },
     "metadata": {},
     "output_type": "display_data"
    },
    {
     "data": {
      "application/vnd.jupyter.widget-view+json": {
       "model_id": "",
       "version_major": 2,
       "version_minor": 0
      },
      "text/plain": [
       "Validation: 0it [00:00, ?it/s]"
      ]
     },
     "metadata": {},
     "output_type": "display_data"
    },
    {
     "data": {
      "application/vnd.jupyter.widget-view+json": {
       "model_id": "",
       "version_major": 2,
       "version_minor": 0
      },
      "text/plain": [
       "Validation: 0it [00:00, ?it/s]"
      ]
     },
     "metadata": {},
     "output_type": "display_data"
    },
    {
     "name": "stderr",
     "output_type": "stream",
     "text": [
      "`Trainer.fit` stopped: `max_epochs=3` reached.\n"
     ]
    }
   ],
   "source": [
    "model = LTResNet50Module()\n",
    "\n",
    "trainer = pl.Trainer(accelerator='gpu', devices=1, \n",
    "                                   logger=TensorBoardLogger(\"./lightning_logs\", name=MODEL_NAME),\n",
    "                                   log_every_n_steps=50,\n",
    "\n",
    "                                callbacks=[checkpoint_callback, \n",
    "                                           #ModelSummary(max_depth=-1), \n",
    "                                           #LearningRateMonitor(\"epoch\")\n",
    "                                          ],\n",
    "                                max_epochs=NUM_EPOCHS\n",
    "                    )\n",
    "\n",
    "trainer.fit(model, TRAIN_LOADER, VAL_LOADER)\n"
   ]
  },
  {
   "cell_type": "code",
   "execution_count": null,
   "metadata": {},
   "outputs": [],
   "source": []
  }
 ],
 "metadata": {
  "kernel_info": {
   "name": "tccenv"
  },
  "kernelspec": {
   "display_name": "Python 3 (ipykernel)",
   "language": "python",
   "name": "python3"
  },
  "language_info": {
   "codemirror_mode": {
    "name": "ipython",
    "version": 3
   },
   "file_extension": ".py",
   "mimetype": "text/x-python",
   "name": "python",
   "nbconvert_exporter": "python",
   "pygments_lexer": "ipython3",
   "version": "3.9.16"
  },
  "microsoft": {
   "host": {
    "AzureML": {
     "notebookHasBeenCompleted": true
    }
   },
   "ms_spell_check": {
    "ms_spell_check_language": "en"
   }
  },
  "nteract": {
   "version": "nteract-front-end@1.0.0"
  }
 },
 "nbformat": 4,
 "nbformat_minor": 2
}
