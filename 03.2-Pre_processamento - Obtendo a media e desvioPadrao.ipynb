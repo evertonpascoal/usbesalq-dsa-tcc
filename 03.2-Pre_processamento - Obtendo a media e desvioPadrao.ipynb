{
 "cells": [
  {
   "cell_type": "markdown",
   "id": "95ce92bb",
   "metadata": {},
   "source": [
    "# Obtendo o média e o desvio padrão para a execução\n",
    "<p> Para realizar o treinamento é necessário normalizar as imagens, para isso precisamos encontrar a Média e o Desvio padrão.</p>"
   ]
  },
  {
   "cell_type": "code",
   "execution_count": 1,
   "id": "ea25833a",
   "metadata": {},
   "outputs": [],
   "source": [
    "from pathlib import Path\n",
    "import numpy as np\n",
    "import pandas as pd\n",
    "import torch\n",
    "\n",
    "import matplotlib.pyplot as plt\n",
    "import cv2\n",
    "\n",
    "from tqdm.notebook import tqdm\n",
    "\n",
    "import torchvision\n",
    "import torchvision.transforms as transforms\n",
    "from torch.utils.data import DataLoader"
   ]
  },
  {
   "cell_type": "code",
   "execution_count": 2,
   "id": "971fca27",
   "metadata": {},
   "outputs": [],
   "source": [
    "train_transforms = transforms.Compose([\n",
    "    transforms.ToTensor(),\n",
    "    \n",
    "    ])\n"
   ]
  },
  {
   "cell_type": "code",
   "execution_count": 3,
   "id": "3b4324fd",
   "metadata": {},
   "outputs": [],
   "source": [
    "#Pasta para salvar o Dataset para treinamento e validação\n",
    "PATH_DS_PROCESSED_TRAINING = Path(\"./IMG224_ALL/PROCESSED-TRAIN/\")\n",
    "PATH_DS_PROCESSED_VALIDATION = Path(\".IMG224_ALL/PROCESSED-VALID/\")\n",
    "PATH_DS_PROCESSED_TEST = Path(\"./IMG224_ALL/PROCESSED-TEST/\")"
   ]
  },
  {
   "cell_type": "code",
   "execution_count": 4,
   "id": "0b45f61f",
   "metadata": {},
   "outputs": [],
   "source": [
    "def load_file(path):\n",
    "    return np.load(path).astype(np.float32)"
   ]
  },
  {
   "cell_type": "code",
   "execution_count": 5,
   "id": "496ff67b",
   "metadata": {},
   "outputs": [],
   "source": [
    "TRAIN_DATASET = torchvision.datasets.DatasetFolder(\n",
    "    PATH_DS_PROCESSED_TEST,\n",
    "    loader=load_file, extensions=\"npy\", transform=transforms.ToTensor())"
   ]
  },
  {
   "cell_type": "code",
   "execution_count": 6,
   "id": "b70810a6",
   "metadata": {},
   "outputs": [
    {
     "name": "stdout",
     "output_type": "stream",
     "text": [
      "mean and std: \n",
      " tensor([118.9568,  76.7986,  43.6991]) tensor([71.9256, 50.9931, 35.3619])\n"
     ]
    }
   ],
   "source": [
    "# python code to calculate mean and std \n",
    "\n",
    "loader = DataLoader(\n",
    "  TRAIN_DATASET, \n",
    "  batch_size = 4, \n",
    "  num_workers=0)\n",
    "\n",
    "def batch_mean_and_sd(loader):\n",
    "    \n",
    "    cnt = 0\n",
    "    fst_moment = torch.empty(3)\n",
    "    snd_moment = torch.empty(3)\n",
    "\n",
    "    for images, _ in loader:\n",
    "        b, c, h, w = images.shape\n",
    "        nb_pixels = b * h * w\n",
    "        sum_ = torch.sum(images, dim=[0, 2, 3])\n",
    "        sum_of_square = torch.sum(images ** 2,\n",
    "                                  dim=[0, 2, 3])\n",
    "        fst_moment = (cnt * fst_moment + sum_) / (\n",
    "                      cnt + nb_pixels)\n",
    "        snd_moment = (cnt * snd_moment + sum_of_square) / (\n",
    "                            cnt + nb_pixels)\n",
    "        cnt += nb_pixels\n",
    "\n",
    "    mean, std = fst_moment, torch.sqrt(\n",
    "      snd_moment - fst_moment ** 2)        \n",
    "    return mean,std\n",
    "  \n",
    "mean, std = batch_mean_and_sd(loader)\n",
    "print(\"mean and std: \\n\", mean, std)"
   ]
  },
  {
   "cell_type": "code",
   "execution_count": null,
   "id": "576239d8",
   "metadata": {},
   "outputs": [],
   "source": []
  }
 ],
 "metadata": {
  "kernelspec": {
   "display_name": "Python 3 (ipykernel)",
   "language": "python",
   "name": "python3"
  },
  "language_info": {
   "codemirror_mode": {
    "name": "ipython",
    "version": 3
   },
   "file_extension": ".py",
   "mimetype": "text/x-python",
   "name": "python",
   "nbconvert_exporter": "python",
   "pygments_lexer": "ipython3",
   "version": "3.9.16"
  }
 },
 "nbformat": 4,
 "nbformat_minor": 5
}
